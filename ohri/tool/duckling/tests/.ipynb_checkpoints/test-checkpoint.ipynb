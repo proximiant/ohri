{
 "cells": [
  {
   "cell_type": "code",
   "execution_count": 6,
   "metadata": {},
   "outputs": [
    {
     "name": "stdout",
     "output_type": "stream",
     "text": [
      "/Users/moon/projects/LincGlobal/ohri\n"
     ]
    }
   ],
   "source": [
    "%cd /Users/moon/projects/LincGlobal/ohri\n",
    "\n",
    "import logging\n",
    "import os\n",
    "from datetime import time\n",
    "from functools import reduce\n",
    "from pprint import pprint\n",
    "from unittest import TestCase\n",
    "\n",
    "from future.utils import lmap\n",
    "\n",
    "from ohri.hub.logger.duckling_logger import DucklingLogger\n",
    "from ohri.tool.collection.collection_tool import luniq\n",
    "from ohri.tool.duckling.duckling_tool import DucklingTool\n",
    "from ohri.tool.testing.testing_tool import TestingTool\n",
    "\n",
    "d = DucklingTool.duckling()\n",
    "\n",
    "def hyp2norm_time_list(hyp):\n",
    "    return lmap(DucklingTool.parse2norm_time_list, hyp)"
   ]
  },
  {
   "cell_type": "code",
   "execution_count": 18,
   "metadata": {},
   "outputs": [
    {
     "name": "stdout",
     "output_type": "stream",
     "text": [
      "[{'dim': 'time',\n",
      "  'end': 10,\n",
      "  'start': 0,\n",
      "  'text': 'two thirty',\n",
      "  'value': {'grain': 'year',\n",
      "            'others': [],\n",
      "            'value': '0230-01-01T00:00:00.000-07:52:58'}}]\n"
     ]
    }
   ],
   "source": [
    "hyp = DucklingTool.str_dim2parse(d,\n",
    "                                         u'two thirty',\n",
    "                                         DucklingTool.Dim.TIME,\n",
    "                                         )\n",
    "# pprint(hyp)\n",
    "pprint(hyp2norm_time_list(hyp))"
   ]
  },
  {
   "cell_type": "code",
   "execution_count": 15,
   "metadata": {},
   "outputs": [
    {
     "name": "stdout",
     "output_type": "stream",
     "text": [
      "[]\n"
     ]
    }
   ],
   "source": [
    "hyp = DucklingTool.str_dim2parse(d,\n",
    "                                         u'pacific time',\n",
    "                                         DucklingTool.Dim.TIMEZONE,\n",
    "                                         )\n",
    "\n",
    "pprint(hyp)\n",
    "\n"
   ]
  },
  {
   "cell_type": "code",
   "execution_count": 16,
   "metadata": {},
   "outputs": [
    {
     "name": "stdout",
     "output_type": "stream",
     "text": [
      "[{'dim': 'temperature',\n",
      "  'end': 65,\n",
      "  'start': 55,\n",
      "  'text': '65 degrees',\n",
      "  'value': {'unit': 'degree', 'value': 65.0}},\n",
      " {'dim': 'temperature',\n",
      "  'end': 51,\n",
      "  'start': 33,\n",
      "  'text': 'thirty two celsius',\n",
      "  'value': {'unit': 'celsius', 'value': 32.0}}]\n"
     ]
    }
   ],
   "source": [
    "hyp = DucklingTool.str_dim2parse(d,\n",
    "                                         u'Let\\'s change the temperatur from thirty two celsius to 65 degrees',\n",
    "                                         DucklingTool.Dim.TEMPERATURE,)\n",
    "pprint(hyp)"
   ]
  },
  {
   "cell_type": "code",
   "execution_count": null,
   "metadata": {},
   "outputs": [],
   "source": []
  }
 ],
 "metadata": {
  "kernelspec": {
   "display_name": "Python 3",
   "language": "python",
   "name": "python3"
  },
  "language_info": {
   "codemirror_mode": {
    "name": "ipython",
    "version": 3
   },
   "file_extension": ".py",
   "mimetype": "text/x-python",
   "name": "python",
   "nbconvert_exporter": "python",
   "pygments_lexer": "ipython3",
   "version": "3.7.5"
  }
 },
 "nbformat": 4,
 "nbformat_minor": 1
}
